{
  "cells": [
    {
      "cell_type": "markdown",
      "metadata": {
        "id": "view-in-github",
        "colab_type": "text"
      },
      "source": [
        "<a href=\"https://colab.research.google.com/github/Kwagalakwe-Grace/Text_Analysis-Project/blob/main/Clustering.ipynb\" target=\"_parent\"><img src=\"https://colab.research.google.com/assets/colab-badge.svg\" alt=\"Open In Colab\"/></a>"
      ]
    },
    {
      "cell_type": "code",
      "execution_count": 1,
      "metadata": {
        "colab": {
          "base_uri": "https://localhost:8080/"
        },
        "id": "jndnVdpcg1lw",
        "outputId": "2c7d8344-e5cb-4809-a6f4-145a2237de0b"
      },
      "outputs": [
        {
          "output_type": "stream",
          "name": "stdout",
          "text": [
            "Looking in indexes: https://pypi.org/simple, https://us-python.pkg.dev/colab-wheels/public/simple/\n",
            "Collecting Comments\n",
            "  Downloading comments-1.0.0.tar.gz (2.4 kB)\n",
            "Requirement already satisfied: urllib3 in /usr/local/lib/python3.7/dist-packages (from Comments) (1.24.3)\n",
            "Requirement already satisfied: certifi in /usr/local/lib/python3.7/dist-packages (from Comments) (2022.6.15)\n",
            "Building wheels for collected packages: Comments\n",
            "  Building wheel for Comments (setup.py) ... \u001b[?25l\u001b[?25hdone\n",
            "  Created wheel for Comments: filename=comments-1.0.0-py3-none-any.whl size=2986 sha256=789042a5f6adc89616b26791aaa38addba37495769d3e3e92884c79a4929812f\n",
            "  Stored in directory: /root/.cache/pip/wheels/88/f1/36/90eab26ff2097f87c6484124b498629d596b77cb7faa79e108\n",
            "Successfully built Comments\n",
            "Installing collected packages: Comments\n",
            "Successfully installed Comments-1.0.0\n"
          ]
        }
      ],
      "source": [
        "!pip install Comments"
      ]
    },
    {
      "cell_type": "code",
      "execution_count": 1,
      "metadata": {
        "colab": {
          "base_uri": "https://localhost:8080/"
        },
        "id": "UW8e-QIphFXY",
        "outputId": "a39135f9-2e82-4185-d88e-36ef8f34f520"
      },
      "outputs": [
        {
          "output_type": "stream",
          "name": "stderr",
          "text": [
            "[nltk_data] Downloading package stopwords to /root/nltk_data...\n",
            "[nltk_data]   Unzipping corpora/stopwords.zip.\n",
            "[nltk_data] Downloading package averaged_perceptron_tagger to\n",
            "[nltk_data]     /root/nltk_data...\n",
            "[nltk_data]   Unzipping taggers/averaged_perceptron_tagger.zip.\n",
            "[nltk_data] Downloading package wordnet to /root/nltk_data...\n",
            "[nltk_data] Downloading package omw-1.4 to /root/nltk_data...\n"
          ]
        },
        {
          "output_type": "execute_result",
          "data": {
            "text/plain": [
              "True"
            ]
          },
          "metadata": {},
          "execution_count": 1
        }
      ],
      "source": [
        "from gc import callbacks\n",
        "from google.colab import drive\n",
        "import openpyxl\n",
        "from textblob import TextBlob\n",
        "from sklearn.feature_extraction.text import CountVectorizer, TfidfVectorizer\n",
        "from matplotlib import pyplot as plt\n",
        "import pandas as pd\n",
        "import numpy as np\n",
        "from sklearn.cluster import MiniBatchKMeans\n",
        "from sklearn.feature_extraction.text import TfidfVectorizer\n",
        "from sklearn.decomposition import PCA\n",
        "import nltk\n",
        "nltk.download('stopwords')\n",
        "nltk.download('averaged_perceptron_tagger')\n",
        "nltk.download('wordnet')\n",
        "nltk.download('omw-1.4')\n",
        "\n"
      ]
    },
    {
      "cell_type": "code",
      "execution_count": 3,
      "metadata": {
        "colab": {
          "base_uri": "https://localhost:8080/"
        },
        "id": "IZZlKU53fXfy",
        "outputId": "ab888558-9ca8-4bf7-97a6-9ea33886a9fe"
      },
      "outputs": [
        {
          "output_type": "stream",
          "name": "stdout",
          "text": [
            "Drive already mounted at /content/drive; to attempt to forcibly remount, call drive.mount(\"/content/drive\", force_remount=True).\n"
          ]
        }
      ],
      "source": [
        "drive.mount('/content/drive')"
      ]
    },
    {
      "cell_type": "code",
      "source": [
        "dataframe = openpyxl.load_workbook(\"/content/drive/MyDrive/course_work/Comments.xlsx\")\n",
        "dataframe1 = dataframe.active"
      ],
      "metadata": {
        "id": "uixtVVibyQmD"
      },
      "execution_count": 2,
      "outputs": []
    },
    {
      "cell_type": "code",
      "source": [
        "df = pd.read_excel('/content/drive/MyDrive/course_work/Comments.xlsx')"
      ],
      "metadata": {
        "id": "z6TZd_WExhJo"
      },
      "execution_count": 3,
      "outputs": []
    },
    {
      "cell_type": "code",
      "source": [
        "df.head()"
      ],
      "metadata": {
        "colab": {
          "base_uri": "https://localhost:8080/",
          "height": 206
        },
        "id": "xQBMYsDJxOID",
        "outputId": "e113f927-ee2a-4493-aab3-0fc9765b9f0c"
      },
      "execution_count": 4,
      "outputs": [
        {
          "output_type": "execute_result",
          "data": {
            "text/plain": [
              "   Unnamed: 0                                            Comment\n",
              "0         5.0                             djfjkdfjkjkffdk edited\n",
              "1        41.0  Faith has exhibited enthusiasm in taking on th...\n",
              "2        49.0  He now has now understood the structure of gra...\n",
              "3        50.0  The Intern was oriented on ICT setup and Infra...\n",
              "4        52.0  The student was oriented on the organization s..."
            ],
            "text/html": [
              "\n",
              "  <div id=\"df-687a9074-2e54-4a0a-a5ef-c0532edd448b\">\n",
              "    <div class=\"colab-df-container\">\n",
              "      <div>\n",
              "<style scoped>\n",
              "    .dataframe tbody tr th:only-of-type {\n",
              "        vertical-align: middle;\n",
              "    }\n",
              "\n",
              "    .dataframe tbody tr th {\n",
              "        vertical-align: top;\n",
              "    }\n",
              "\n",
              "    .dataframe thead th {\n",
              "        text-align: right;\n",
              "    }\n",
              "</style>\n",
              "<table border=\"1\" class=\"dataframe\">\n",
              "  <thead>\n",
              "    <tr style=\"text-align: right;\">\n",
              "      <th></th>\n",
              "      <th>Unnamed: 0</th>\n",
              "      <th>Comment</th>\n",
              "    </tr>\n",
              "  </thead>\n",
              "  <tbody>\n",
              "    <tr>\n",
              "      <th>0</th>\n",
              "      <td>5.0</td>\n",
              "      <td>djfjkdfjkjkffdk edited</td>\n",
              "    </tr>\n",
              "    <tr>\n",
              "      <th>1</th>\n",
              "      <td>41.0</td>\n",
              "      <td>Faith has exhibited enthusiasm in taking on th...</td>\n",
              "    </tr>\n",
              "    <tr>\n",
              "      <th>2</th>\n",
              "      <td>49.0</td>\n",
              "      <td>He now has now understood the structure of gra...</td>\n",
              "    </tr>\n",
              "    <tr>\n",
              "      <th>3</th>\n",
              "      <td>50.0</td>\n",
              "      <td>The Intern was oriented on ICT setup and Infra...</td>\n",
              "    </tr>\n",
              "    <tr>\n",
              "      <th>4</th>\n",
              "      <td>52.0</td>\n",
              "      <td>The student was oriented on the organization s...</td>\n",
              "    </tr>\n",
              "  </tbody>\n",
              "</table>\n",
              "</div>\n",
              "      <button class=\"colab-df-convert\" onclick=\"convertToInteractive('df-687a9074-2e54-4a0a-a5ef-c0532edd448b')\"\n",
              "              title=\"Convert this dataframe to an interactive table.\"\n",
              "              style=\"display:none;\">\n",
              "        \n",
              "  <svg xmlns=\"http://www.w3.org/2000/svg\" height=\"24px\"viewBox=\"0 0 24 24\"\n",
              "       width=\"24px\">\n",
              "    <path d=\"M0 0h24v24H0V0z\" fill=\"none\"/>\n",
              "    <path d=\"M18.56 5.44l.94 2.06.94-2.06 2.06-.94-2.06-.94-.94-2.06-.94 2.06-2.06.94zm-11 1L8.5 8.5l.94-2.06 2.06-.94-2.06-.94L8.5 2.5l-.94 2.06-2.06.94zm10 10l.94 2.06.94-2.06 2.06-.94-2.06-.94-.94-2.06-.94 2.06-2.06.94z\"/><path d=\"M17.41 7.96l-1.37-1.37c-.4-.4-.92-.59-1.43-.59-.52 0-1.04.2-1.43.59L10.3 9.45l-7.72 7.72c-.78.78-.78 2.05 0 2.83L4 21.41c.39.39.9.59 1.41.59.51 0 1.02-.2 1.41-.59l7.78-7.78 2.81-2.81c.8-.78.8-2.07 0-2.86zM5.41 20L4 18.59l7.72-7.72 1.47 1.35L5.41 20z\"/>\n",
              "  </svg>\n",
              "      </button>\n",
              "      \n",
              "  <style>\n",
              "    .colab-df-container {\n",
              "      display:flex;\n",
              "      flex-wrap:wrap;\n",
              "      gap: 12px;\n",
              "    }\n",
              "\n",
              "    .colab-df-convert {\n",
              "      background-color: #E8F0FE;\n",
              "      border: none;\n",
              "      border-radius: 50%;\n",
              "      cursor: pointer;\n",
              "      display: none;\n",
              "      fill: #1967D2;\n",
              "      height: 32px;\n",
              "      padding: 0 0 0 0;\n",
              "      width: 32px;\n",
              "    }\n",
              "\n",
              "    .colab-df-convert:hover {\n",
              "      background-color: #E2EBFA;\n",
              "      box-shadow: 0px 1px 2px rgba(60, 64, 67, 0.3), 0px 1px 3px 1px rgba(60, 64, 67, 0.15);\n",
              "      fill: #174EA6;\n",
              "    }\n",
              "\n",
              "    [theme=dark] .colab-df-convert {\n",
              "      background-color: #3B4455;\n",
              "      fill: #D2E3FC;\n",
              "    }\n",
              "\n",
              "    [theme=dark] .colab-df-convert:hover {\n",
              "      background-color: #434B5C;\n",
              "      box-shadow: 0px 1px 3px 1px rgba(0, 0, 0, 0.15);\n",
              "      filter: drop-shadow(0px 1px 2px rgba(0, 0, 0, 0.3));\n",
              "      fill: #FFFFFF;\n",
              "    }\n",
              "  </style>\n",
              "\n",
              "      <script>\n",
              "        const buttonEl =\n",
              "          document.querySelector('#df-687a9074-2e54-4a0a-a5ef-c0532edd448b button.colab-df-convert');\n",
              "        buttonEl.style.display =\n",
              "          google.colab.kernel.accessAllowed ? 'block' : 'none';\n",
              "\n",
              "        async function convertToInteractive(key) {\n",
              "          const element = document.querySelector('#df-687a9074-2e54-4a0a-a5ef-c0532edd448b');\n",
              "          const dataTable =\n",
              "            await google.colab.kernel.invokeFunction('convertToInteractive',\n",
              "                                                     [key], {});\n",
              "          if (!dataTable) return;\n",
              "\n",
              "          const docLinkHtml = 'Like what you see? Visit the ' +\n",
              "            '<a target=\"_blank\" href=https://colab.research.google.com/notebooks/data_table.ipynb>data table notebook</a>'\n",
              "            + ' to learn more about interactive tables.';\n",
              "          element.innerHTML = '';\n",
              "          dataTable['output_type'] = 'display_data';\n",
              "          await google.colab.output.renderOutput(dataTable, element);\n",
              "          const docLink = document.createElement('div');\n",
              "          docLink.innerHTML = docLinkHtml;\n",
              "          element.appendChild(docLink);\n",
              "        }\n",
              "      </script>\n",
              "    </div>\n",
              "  </div>\n",
              "  "
            ]
          },
          "metadata": {},
          "execution_count": 4
        }
      ]
    },
    {
      "cell_type": "code",
      "source": [
        "from nltk.corpus import wordnet\n",
        "\n",
        "def get_wordnet_pos(pos_tag):\n",
        "    if pos_tag.startswith('ADJ'):\n",
        "        return wordnet.ADJ\n",
        "    elif pos_tag.startswith('VERB'):\n",
        "        return wordnet.VERB\n",
        "    elif pos_tag.startswith('NOUN'):\n",
        "        return wordnet.NOUN\n",
        "    elif pos_tag.startswith('ADV'):\n",
        "        return wordnet.ADV\n",
        "    else:\n",
        "        return wordnet.NOUN"
      ],
      "metadata": {
        "id": "_rUjxOND38Ui"
      },
      "execution_count": 5,
      "outputs": []
    },
    {
      "cell_type": "code",
      "source": [
        "df.Comment=df.Comment.astype(str)"
      ],
      "metadata": {
        "id": "XqtH-J216Sn_"
      },
      "execution_count": 6,
      "outputs": []
    },
    {
      "cell_type": "code",
      "source": [
        "import string\n",
        "from nltk import pos_tag\n",
        "from nltk.corpus import stopwords\n",
        "from nltk.tokenize import WhitespaceTokenizer\n",
        "from nltk.stem import WordNetLemmatizer\n",
        "\n",
        "def clean_data(text):\n",
        "    text = [word.strip(string.punctuation) for word in text.split(\" \")]\n",
        "    text = [word for word in text if not any(c.isdigit() for c in word)]\n",
        "    stop = stopwords.words('english')\n",
        "    text = [x for x in text if x not in stop]\n",
        "    text = [t for t in text if len(t) > 0]\n",
        "    pos_tags = pos_tag(text)\n",
        "    text = [WordNetLemmatizer().lemmatize(t[0], get_wordnet_pos(t[1])) for t in pos_tags]\n",
        "    text = [t for t in text if len(t) > 1]\n",
        "    text = \" \".join(text)\n",
        "    return(text)\n"
      ],
      "metadata": {
        "id": "lyLC7zWu3pWW"
      },
      "execution_count": 7,
      "outputs": []
    },
    {
      "cell_type": "code",
      "source": [
        "df[\"cleaned_data\"] = df[\"Comment\"].apply(lambda x: clean_data(x))\n",
        "df.head()"
      ],
      "metadata": {
        "colab": {
          "base_uri": "https://localhost:8080/",
          "height": 206
        },
        "id": "DMFrJh1Q6k_1",
        "outputId": "7d5aa42e-6137-4a99-eb11-e529ba7ee921"
      },
      "execution_count": 8,
      "outputs": [
        {
          "output_type": "execute_result",
          "data": {
            "text/plain": [
              "   Unnamed: 0                                            Comment  \\\n",
              "0         5.0                             djfjkdfjkjkffdk edited   \n",
              "1        41.0  Faith has exhibited enthusiasm in taking on th...   \n",
              "2        49.0  He now has now understood the structure of gra...   \n",
              "3        50.0  The Intern was oriented on ICT setup and Infra...   \n",
              "4        52.0  The student was oriented on the organization s...   \n",
              "\n",
              "                                        cleaned_data  \n",
              "0                             djfjkdfjkjkffdk edited  \n",
              "1  Faith exhibited enthusiasm taking project hand...  \n",
              "2  He understood structure grail different compon...  \n",
              "3  The Intern oriented ICT setup Infrastructure S...  \n",
              "4  The student oriented organization structure de...  "
            ],
            "text/html": [
              "\n",
              "  <div id=\"df-54f7ea2a-248c-4d10-94c9-03a7d7f84631\">\n",
              "    <div class=\"colab-df-container\">\n",
              "      <div>\n",
              "<style scoped>\n",
              "    .dataframe tbody tr th:only-of-type {\n",
              "        vertical-align: middle;\n",
              "    }\n",
              "\n",
              "    .dataframe tbody tr th {\n",
              "        vertical-align: top;\n",
              "    }\n",
              "\n",
              "    .dataframe thead th {\n",
              "        text-align: right;\n",
              "    }\n",
              "</style>\n",
              "<table border=\"1\" class=\"dataframe\">\n",
              "  <thead>\n",
              "    <tr style=\"text-align: right;\">\n",
              "      <th></th>\n",
              "      <th>Unnamed: 0</th>\n",
              "      <th>Comment</th>\n",
              "      <th>cleaned_data</th>\n",
              "    </tr>\n",
              "  </thead>\n",
              "  <tbody>\n",
              "    <tr>\n",
              "      <th>0</th>\n",
              "      <td>5.0</td>\n",
              "      <td>djfjkdfjkjkffdk edited</td>\n",
              "      <td>djfjkdfjkjkffdk edited</td>\n",
              "    </tr>\n",
              "    <tr>\n",
              "      <th>1</th>\n",
              "      <td>41.0</td>\n",
              "      <td>Faith has exhibited enthusiasm in taking on th...</td>\n",
              "      <td>Faith exhibited enthusiasm taking project hand...</td>\n",
              "    </tr>\n",
              "    <tr>\n",
              "      <th>2</th>\n",
              "      <td>49.0</td>\n",
              "      <td>He now has now understood the structure of gra...</td>\n",
              "      <td>He understood structure grail different compon...</td>\n",
              "    </tr>\n",
              "    <tr>\n",
              "      <th>3</th>\n",
              "      <td>50.0</td>\n",
              "      <td>The Intern was oriented on ICT setup and Infra...</td>\n",
              "      <td>The Intern oriented ICT setup Infrastructure S...</td>\n",
              "    </tr>\n",
              "    <tr>\n",
              "      <th>4</th>\n",
              "      <td>52.0</td>\n",
              "      <td>The student was oriented on the organization s...</td>\n",
              "      <td>The student oriented organization structure de...</td>\n",
              "    </tr>\n",
              "  </tbody>\n",
              "</table>\n",
              "</div>\n",
              "      <button class=\"colab-df-convert\" onclick=\"convertToInteractive('df-54f7ea2a-248c-4d10-94c9-03a7d7f84631')\"\n",
              "              title=\"Convert this dataframe to an interactive table.\"\n",
              "              style=\"display:none;\">\n",
              "        \n",
              "  <svg xmlns=\"http://www.w3.org/2000/svg\" height=\"24px\"viewBox=\"0 0 24 24\"\n",
              "       width=\"24px\">\n",
              "    <path d=\"M0 0h24v24H0V0z\" fill=\"none\"/>\n",
              "    <path d=\"M18.56 5.44l.94 2.06.94-2.06 2.06-.94-2.06-.94-.94-2.06-.94 2.06-2.06.94zm-11 1L8.5 8.5l.94-2.06 2.06-.94-2.06-.94L8.5 2.5l-.94 2.06-2.06.94zm10 10l.94 2.06.94-2.06 2.06-.94-2.06-.94-.94-2.06-.94 2.06-2.06.94z\"/><path d=\"M17.41 7.96l-1.37-1.37c-.4-.4-.92-.59-1.43-.59-.52 0-1.04.2-1.43.59L10.3 9.45l-7.72 7.72c-.78.78-.78 2.05 0 2.83L4 21.41c.39.39.9.59 1.41.59.51 0 1.02-.2 1.41-.59l7.78-7.78 2.81-2.81c.8-.78.8-2.07 0-2.86zM5.41 20L4 18.59l7.72-7.72 1.47 1.35L5.41 20z\"/>\n",
              "  </svg>\n",
              "      </button>\n",
              "      \n",
              "  <style>\n",
              "    .colab-df-container {\n",
              "      display:flex;\n",
              "      flex-wrap:wrap;\n",
              "      gap: 12px;\n",
              "    }\n",
              "\n",
              "    .colab-df-convert {\n",
              "      background-color: #E8F0FE;\n",
              "      border: none;\n",
              "      border-radius: 50%;\n",
              "      cursor: pointer;\n",
              "      display: none;\n",
              "      fill: #1967D2;\n",
              "      height: 32px;\n",
              "      padding: 0 0 0 0;\n",
              "      width: 32px;\n",
              "    }\n",
              "\n",
              "    .colab-df-convert:hover {\n",
              "      background-color: #E2EBFA;\n",
              "      box-shadow: 0px 1px 2px rgba(60, 64, 67, 0.3), 0px 1px 3px 1px rgba(60, 64, 67, 0.15);\n",
              "      fill: #174EA6;\n",
              "    }\n",
              "\n",
              "    [theme=dark] .colab-df-convert {\n",
              "      background-color: #3B4455;\n",
              "      fill: #D2E3FC;\n",
              "    }\n",
              "\n",
              "    [theme=dark] .colab-df-convert:hover {\n",
              "      background-color: #434B5C;\n",
              "      box-shadow: 0px 1px 3px 1px rgba(0, 0, 0, 0.15);\n",
              "      filter: drop-shadow(0px 1px 2px rgba(0, 0, 0, 0.3));\n",
              "      fill: #FFFFFF;\n",
              "    }\n",
              "  </style>\n",
              "\n",
              "      <script>\n",
              "        const buttonEl =\n",
              "          document.querySelector('#df-54f7ea2a-248c-4d10-94c9-03a7d7f84631 button.colab-df-convert');\n",
              "        buttonEl.style.display =\n",
              "          google.colab.kernel.accessAllowed ? 'block' : 'none';\n",
              "\n",
              "        async function convertToInteractive(key) {\n",
              "          const element = document.querySelector('#df-54f7ea2a-248c-4d10-94c9-03a7d7f84631');\n",
              "          const dataTable =\n",
              "            await google.colab.kernel.invokeFunction('convertToInteractive',\n",
              "                                                     [key], {});\n",
              "          if (!dataTable) return;\n",
              "\n",
              "          const docLinkHtml = 'Like what you see? Visit the ' +\n",
              "            '<a target=\"_blank\" href=https://colab.research.google.com/notebooks/data_table.ipynb>data table notebook</a>'\n",
              "            + ' to learn more about interactive tables.';\n",
              "          element.innerHTML = '';\n",
              "          dataTable['output_type'] = 'display_data';\n",
              "          await google.colab.output.renderOutput(dataTable, element);\n",
              "          const docLink = document.createElement('div');\n",
              "          docLink.innerHTML = docLinkHtml;\n",
              "          element.appendChild(docLink);\n",
              "        }\n",
              "      </script>\n",
              "    </div>\n",
              "  </div>\n",
              "  "
            ]
          },
          "metadata": {},
          "execution_count": 8
        }
      ]
    },
    {
      "cell_type": "markdown",
      "source": [
        "Clustering"
      ],
      "metadata": {
        "id": "wCIIeOsr0R-g"
      }
    },
    {
      "cell_type": "code",
      "source": [
        "dataframe = openpyxl.load_workbook(\"/content/drive/MyDrive/Cleaned_comments.xlsx\")\n",
        "dataframe2 = dataframe.active"
      ],
      "metadata": {
        "id": "n7h0K-hF_kcb"
      },
      "execution_count": 9,
      "outputs": []
    },
    {
      "cell_type": "code",
      "source": [
        "corpus_1 = []\n",
        "corpus_2 = []\n",
        "\n",
        "for row in range(1, dataframe1.max_row):\n",
        "    for col in dataframe1.iter_cols(2, dataframe1.max_column):\n",
        "        blob = TextBlob(col[row].value)\n",
        "        sentiment = blob.sentiment.polarity\n",
        "        # corpus_1.append(comments(sentiment))\n",
        "\n",
        "        score = ''\n",
        "        if sentiment >= 0.80 and sentiment <= 1:\n",
        "            score = \"Excellent\"\n",
        "        if sentiment > 0 and sentiment < 0.80:\n",
        "            score = \"Good\"\n",
        "        if sentiment == 0:\n",
        "            score = \"Neutral\"\n",
        "        if sentiment < 0 and sentiment >= -0.50:\n",
        "            score = \"Poor\"\n",
        "        if sentiment < -0.50 and sentiment >= -1:\n",
        "            score = \"Very_Poor\"\n",
        "\n",
        "        corpus_1.append(score)\n",
        "        corpus_2.append(col[row].value)\n",
        "\n",
        "vectorizer = TfidfVectorizer(stop_words='english')\n",
        "corpus_vector = vectorizer.fit_transform(corpus_1)\n",
        "cluster_number = 5\n",
        "\n",
        "vectorizer = TfidfVectorizer(analyzer='word')\n",
        "X = vectorizer.fit_transform(corpus_1)\n",
        "\n",
        "source = corpus_1\n",
        "target = []\n",
        "weight = []\n",
        "cls = ['Excellent', 'Good', 'Neutral', 'Poor', 'Very_Poor']\n",
        "df2 = pd.DataFrame(X.toarray(),columns=['excellent', 'good', 'neutral', 'poor', 'very_poor'])\n",
        "\n",
        "class_label = {cls: i for i, cls in enumerate(cls)}\n",
        "print (class_label)\n",
        "print(X)"
      ],
      "metadata": {
        "colab": {
          "base_uri": "https://localhost:8080/"
        },
        "id": "K74SKR-EfBJW",
        "outputId": "c53fa12e-094f-4b76-c4bf-83506ffb1748"
      },
      "execution_count": 10,
      "outputs": [
        {
          "output_type": "stream",
          "name": "stdout",
          "text": [
            "{'Excellent': 0, 'Good': 1, 'Neutral': 2, 'Poor': 3, 'Very_Poor': 4}\n",
            "  (0, 2)\t1.0\n",
            "  (1, 1)\t1.0\n",
            "  (2, 2)\t1.0\n",
            "  (3, 3)\t1.0\n",
            "  (4, 1)\t1.0\n",
            "  (5, 2)\t1.0\n",
            "  (6, 2)\t1.0\n",
            "  (7, 1)\t1.0\n",
            "  (8, 2)\t1.0\n",
            "  (9, 1)\t1.0\n",
            "  (10, 1)\t1.0\n",
            "  (11, 3)\t1.0\n",
            "  (12, 1)\t1.0\n",
            "  (13, 1)\t1.0\n",
            "  (14, 2)\t1.0\n",
            "  (15, 2)\t1.0\n",
            "  (16, 1)\t1.0\n",
            "  (17, 1)\t1.0\n",
            "  (18, 2)\t1.0\n",
            "  (19, 2)\t1.0\n",
            "  (20, 1)\t1.0\n",
            "  (21, 1)\t1.0\n",
            "  (22, 1)\t1.0\n",
            "  (23, 2)\t1.0\n",
            "  (24, 2)\t1.0\n",
            "  :\t:\n",
            "  (4922, 1)\t1.0\n",
            "  (4923, 1)\t1.0\n",
            "  (4924, 1)\t1.0\n",
            "  (4925, 2)\t1.0\n",
            "  (4926, 1)\t1.0\n",
            "  (4927, 2)\t1.0\n",
            "  (4928, 1)\t1.0\n",
            "  (4929, 1)\t1.0\n",
            "  (4930, 1)\t1.0\n",
            "  (4931, 1)\t1.0\n",
            "  (4932, 2)\t1.0\n",
            "  (4933, 1)\t1.0\n",
            "  (4934, 1)\t1.0\n",
            "  (4935, 1)\t1.0\n",
            "  (4936, 3)\t1.0\n",
            "  (4937, 1)\t1.0\n",
            "  (4938, 2)\t1.0\n",
            "  (4939, 1)\t1.0\n",
            "  (4940, 1)\t1.0\n",
            "  (4941, 1)\t1.0\n",
            "  (4942, 2)\t1.0\n",
            "  (4943, 1)\t1.0\n",
            "  (4944, 2)\t1.0\n",
            "  (4945, 2)\t1.0\n",
            "  (4946, 2)\t1.0\n"
          ]
        }
      ]
    },
    {
      "cell_type": "code",
      "source": [
        "print(corpus_1.count(\"Excellent\"))"
      ],
      "metadata": {
        "colab": {
          "base_uri": "https://localhost:8080/"
        },
        "id": "H43KxzbYPqJv",
        "outputId": "a5417d38-f499-4847-b871-2913864f8d5c"
      },
      "execution_count": 13,
      "outputs": [
        {
          "output_type": "stream",
          "name": "stdout",
          "text": [
            "245\n"
          ]
        }
      ]
    },
    {
      "cell_type": "code",
      "source": [
        "print(corpus_1.count(\"Good\"))"
      ],
      "metadata": {
        "colab": {
          "base_uri": "https://localhost:8080/"
        },
        "id": "2hCvD7nBP6JT",
        "outputId": "00d252df-d546-4988-b52b-3802816aedef"
      },
      "execution_count": 14,
      "outputs": [
        {
          "output_type": "stream",
          "name": "stdout",
          "text": [
            "2816\n"
          ]
        }
      ]
    },
    {
      "cell_type": "code",
      "source": [
        "print(corpus_1.count(\"Neutral\"))"
      ],
      "metadata": {
        "colab": {
          "base_uri": "https://localhost:8080/"
        },
        "id": "Uk94BrsoQERl",
        "outputId": "fe9d55d4-c5a6-4ce5-96fa-0e5d49953b62"
      },
      "execution_count": 15,
      "outputs": [
        {
          "output_type": "stream",
          "name": "stdout",
          "text": [
            "1494\n"
          ]
        }
      ]
    },
    {
      "cell_type": "code",
      "source": [
        "print(corpus_1.count(\"Poor\"))"
      ],
      "metadata": {
        "colab": {
          "base_uri": "https://localhost:8080/"
        },
        "id": "8aNwZnpMQKLI",
        "outputId": "4498099b-83f6-4c95-e1b7-130c6ef16aca"
      },
      "execution_count": 16,
      "outputs": [
        {
          "output_type": "stream",
          "name": "stdout",
          "text": [
            "390\n"
          ]
        }
      ]
    },
    {
      "cell_type": "code",
      "source": [
        "print(corpus_1.count(\"Very_Poor\"))"
      ],
      "metadata": {
        "colab": {
          "base_uri": "https://localhost:8080/"
        },
        "id": "WbLCwF5dQNK-",
        "outputId": "97a69b05-6089-47d7-f33c-4b3887188d83"
      },
      "execution_count": 17,
      "outputs": [
        {
          "output_type": "stream",
          "name": "stdout",
          "text": [
            "2\n"
          ]
        }
      ]
    },
    {
      "cell_type": "code",
      "source": [
        "list_cols = ['Excellent','Good','Neutral','Poor','Very_Poor']\n",
        "data_list = []\n",
        "for i in list_cols:\n",
        "  list1 = []\n",
        "  list1.append(i)\n",
        "  list1.append(corpus_1.count(i))\n",
        "  pct = ((corpus_1.count(i))/len(corpus_1)) * 100\n",
        "  list1.append(pct)\n",
        "  data_list.append(list1)\n",
        "data_list\n",
        "\n",
        "to_csv_dataframe = pd.DataFrame(data_list,columns=['Cluster','Count','Percentage'])\n",
        "to_csv_dataframe.to_csv('Pie_Chart.csv',index=False)"
      ],
      "metadata": {
        "id": "YUc1wv2CiE8v"
      },
      "execution_count": 11,
      "outputs": []
    }
  ],
  "metadata": {
    "colab": {
      "collapsed_sections": [],
      "provenance": [],
      "mount_file_id": "1qM0h1W5HbaJcbHa2v1S-RYxkLt_kAId8",
      "authorship_tag": "ABX9TyNVR044uQr+r2glygUmzCKZ",
      "include_colab_link": true
    },
    "kernelspec": {
      "display_name": "Python 3",
      "name": "python3"
    },
    "language_info": {
      "name": "python"
    }
  },
  "nbformat": 4,
  "nbformat_minor": 0
}