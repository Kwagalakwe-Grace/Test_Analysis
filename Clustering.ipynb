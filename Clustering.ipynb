{
  "cells": [
    {
      "cell_type": "code",
      "execution_count": null,
      "metadata": {
        "colab": {
          "base_uri": "https://localhost:8080/"
        },
        "id": "jndnVdpcg1lw",
        "outputId": "f0510dd5-0492-43e4-97ec-555cee554da9"
      },
      "outputs": [
        {
          "name": "stdout",
          "output_type": "stream",
          "text": [
            "Looking in indexes: https://pypi.org/simple, https://us-python.pkg.dev/colab-wheels/public/simple/\n",
            "Requirement already satisfied: Comments in /usr/local/lib/python3.7/dist-packages (1.0.0)\n",
            "Requirement already satisfied: certifi in /usr/local/lib/python3.7/dist-packages (from Comments) (2022.6.15)\n",
            "Requirement already satisfied: urllib3 in /usr/local/lib/python3.7/dist-packages (from Comments) (1.24.3)\n"
          ]
        }
      ],
      "source": [
        "!pip install Comments"
      ]
    },
    {
      "cell_type": "code",
      "execution_count": 41,
      "metadata": {
        "colab": {
          "base_uri": "https://localhost:8080/"
        },
        "id": "UW8e-QIphFXY",
        "outputId": "ad78f310-4d89-4923-b15d-63ef7ae92f32"
      },
      "outputs": [
        {
          "output_type": "stream",
          "name": "stderr",
          "text": [
            "[nltk_data] Downloading package stopwords to /root/nltk_data...\n",
            "[nltk_data]   Package stopwords is already up-to-date!\n",
            "[nltk_data] Downloading package averaged_perceptron_tagger to\n",
            "[nltk_data]     /root/nltk_data...\n",
            "[nltk_data]   Package averaged_perceptron_tagger is already up-to-\n",
            "[nltk_data]       date!\n",
            "[nltk_data] Downloading package wordnet to /root/nltk_data...\n",
            "[nltk_data]   Package wordnet is already up-to-date!\n",
            "[nltk_data] Downloading package omw-1.4 to /root/nltk_data...\n"
          ]
        },
        {
          "output_type": "execute_result",
          "data": {
            "text/plain": [
              "True"
            ]
          },
          "metadata": {},
          "execution_count": 41
        }
      ],
      "source": [
        "from gc import callbacks\n",
        "from google.colab import drive\n",
        "import openpyxl\n",
        "from textblob import TextBlob\n",
        "from sklearn.feature_extraction.text import CountVectorizer, TfidfVectorizer\n",
        "from matplotlib import pyplot as plt\n",
        "import pandas as pd\n",
        "import numpy as np\n",
        "from sklearn.cluster import MiniBatchKMeans\n",
        "from sklearn.feature_extraction.text import TfidfVectorizer\n",
        "from sklearn.decomposition import PCA\n",
        "import nltk\n",
        "nltk.download('stopwords')\n",
        "nltk.download('averaged_perceptron_tagger')\n",
        "nltk.download('wordnet')\n",
        "nltk.download('omw-1.4')\n"
      ]
    },
    {
      "cell_type": "code",
      "execution_count": 3,
      "metadata": {
        "colab": {
          "base_uri": "https://localhost:8080/"
        },
        "id": "IZZlKU53fXfy",
        "outputId": "56c5d348-fefd-4c1e-e1d8-b41d4b81728b"
      },
      "outputs": [
        {
          "output_type": "stream",
          "name": "stdout",
          "text": [
            "Mounted at /content/drive\n"
          ]
        }
      ],
      "source": [
        "drive.mount('/content/drive')"
      ]
    },
    {
      "cell_type": "code",
      "source": [
        "dataframe = openpyxl.load_workbook(\"/content/drive/MyDrive/course_work/Comments.xlsx\")\n",
        "dataframe1 = dataframe.active"
      ],
      "metadata": {
        "id": "uixtVVibyQmD"
      },
      "execution_count": 23,
      "outputs": []
    },
    {
      "cell_type": "code",
      "source": [
        "df = pd.read_excel('/content/drive/MyDrive/course_work/Comments.xlsx')"
      ],
      "metadata": {
        "id": "z6TZd_WExhJo"
      },
      "execution_count": 18,
      "outputs": []
    },
    {
      "cell_type": "code",
      "source": [
        "df.head()"
      ],
      "metadata": {
        "colab": {
          "base_uri": "https://localhost:8080/",
          "height": 206
        },
        "id": "xQBMYsDJxOID",
        "outputId": "1c282de2-4adb-4059-edf4-9b6895e5c73a"
      },
      "execution_count": 19,
      "outputs": [
        {
          "output_type": "execute_result",
          "data": {
            "text/plain": [
              "   comment_id                                            Comment\n",
              "0           5                             djfjkdfjkjkffdk edited\n",
              "1          41  Faith has exhibited enthusiasm in taking on th...\n",
              "2          49  He now has now understood the structure of gra...\n",
              "3          50  The Intern was oriented on ICT setup and Infra...\n",
              "4          52  The student was oriented on the organization s..."
            ],
            "text/html": [
              "\n",
              "  <div id=\"df-e02734e5-8c52-4521-88dd-7e658c1dcdf3\">\n",
              "    <div class=\"colab-df-container\">\n",
              "      <div>\n",
              "<style scoped>\n",
              "    .dataframe tbody tr th:only-of-type {\n",
              "        vertical-align: middle;\n",
              "    }\n",
              "\n",
              "    .dataframe tbody tr th {\n",
              "        vertical-align: top;\n",
              "    }\n",
              "\n",
              "    .dataframe thead th {\n",
              "        text-align: right;\n",
              "    }\n",
              "</style>\n",
              "<table border=\"1\" class=\"dataframe\">\n",
              "  <thead>\n",
              "    <tr style=\"text-align: right;\">\n",
              "      <th></th>\n",
              "      <th>comment_id</th>\n",
              "      <th>Comment</th>\n",
              "    </tr>\n",
              "  </thead>\n",
              "  <tbody>\n",
              "    <tr>\n",
              "      <th>0</th>\n",
              "      <td>5</td>\n",
              "      <td>djfjkdfjkjkffdk edited</td>\n",
              "    </tr>\n",
              "    <tr>\n",
              "      <th>1</th>\n",
              "      <td>41</td>\n",
              "      <td>Faith has exhibited enthusiasm in taking on th...</td>\n",
              "    </tr>\n",
              "    <tr>\n",
              "      <th>2</th>\n",
              "      <td>49</td>\n",
              "      <td>He now has now understood the structure of gra...</td>\n",
              "    </tr>\n",
              "    <tr>\n",
              "      <th>3</th>\n",
              "      <td>50</td>\n",
              "      <td>The Intern was oriented on ICT setup and Infra...</td>\n",
              "    </tr>\n",
              "    <tr>\n",
              "      <th>4</th>\n",
              "      <td>52</td>\n",
              "      <td>The student was oriented on the organization s...</td>\n",
              "    </tr>\n",
              "  </tbody>\n",
              "</table>\n",
              "</div>\n",
              "      <button class=\"colab-df-convert\" onclick=\"convertToInteractive('df-e02734e5-8c52-4521-88dd-7e658c1dcdf3')\"\n",
              "              title=\"Convert this dataframe to an interactive table.\"\n",
              "              style=\"display:none;\">\n",
              "        \n",
              "  <svg xmlns=\"http://www.w3.org/2000/svg\" height=\"24px\"viewBox=\"0 0 24 24\"\n",
              "       width=\"24px\">\n",
              "    <path d=\"M0 0h24v24H0V0z\" fill=\"none\"/>\n",
              "    <path d=\"M18.56 5.44l.94 2.06.94-2.06 2.06-.94-2.06-.94-.94-2.06-.94 2.06-2.06.94zm-11 1L8.5 8.5l.94-2.06 2.06-.94-2.06-.94L8.5 2.5l-.94 2.06-2.06.94zm10 10l.94 2.06.94-2.06 2.06-.94-2.06-.94-.94-2.06-.94 2.06-2.06.94z\"/><path d=\"M17.41 7.96l-1.37-1.37c-.4-.4-.92-.59-1.43-.59-.52 0-1.04.2-1.43.59L10.3 9.45l-7.72 7.72c-.78.78-.78 2.05 0 2.83L4 21.41c.39.39.9.59 1.41.59.51 0 1.02-.2 1.41-.59l7.78-7.78 2.81-2.81c.8-.78.8-2.07 0-2.86zM5.41 20L4 18.59l7.72-7.72 1.47 1.35L5.41 20z\"/>\n",
              "  </svg>\n",
              "      </button>\n",
              "      \n",
              "  <style>\n",
              "    .colab-df-container {\n",
              "      display:flex;\n",
              "      flex-wrap:wrap;\n",
              "      gap: 12px;\n",
              "    }\n",
              "\n",
              "    .colab-df-convert {\n",
              "      background-color: #E8F0FE;\n",
              "      border: none;\n",
              "      border-radius: 50%;\n",
              "      cursor: pointer;\n",
              "      display: none;\n",
              "      fill: #1967D2;\n",
              "      height: 32px;\n",
              "      padding: 0 0 0 0;\n",
              "      width: 32px;\n",
              "    }\n",
              "\n",
              "    .colab-df-convert:hover {\n",
              "      background-color: #E2EBFA;\n",
              "      box-shadow: 0px 1px 2px rgba(60, 64, 67, 0.3), 0px 1px 3px 1px rgba(60, 64, 67, 0.15);\n",
              "      fill: #174EA6;\n",
              "    }\n",
              "\n",
              "    [theme=dark] .colab-df-convert {\n",
              "      background-color: #3B4455;\n",
              "      fill: #D2E3FC;\n",
              "    }\n",
              "\n",
              "    [theme=dark] .colab-df-convert:hover {\n",
              "      background-color: #434B5C;\n",
              "      box-shadow: 0px 1px 3px 1px rgba(0, 0, 0, 0.15);\n",
              "      filter: drop-shadow(0px 1px 2px rgba(0, 0, 0, 0.3));\n",
              "      fill: #FFFFFF;\n",
              "    }\n",
              "  </style>\n",
              "\n",
              "      <script>\n",
              "        const buttonEl =\n",
              "          document.querySelector('#df-e02734e5-8c52-4521-88dd-7e658c1dcdf3 button.colab-df-convert');\n",
              "        buttonEl.style.display =\n",
              "          google.colab.kernel.accessAllowed ? 'block' : 'none';\n",
              "\n",
              "        async function convertToInteractive(key) {\n",
              "          const element = document.querySelector('#df-e02734e5-8c52-4521-88dd-7e658c1dcdf3');\n",
              "          const dataTable =\n",
              "            await google.colab.kernel.invokeFunction('convertToInteractive',\n",
              "                                                     [key], {});\n",
              "          if (!dataTable) return;\n",
              "\n",
              "          const docLinkHtml = 'Like what you see? Visit the ' +\n",
              "            '<a target=\"_blank\" href=https://colab.research.google.com/notebooks/data_table.ipynb>data table notebook</a>'\n",
              "            + ' to learn more about interactive tables.';\n",
              "          element.innerHTML = '';\n",
              "          dataTable['output_type'] = 'display_data';\n",
              "          await google.colab.output.renderOutput(dataTable, element);\n",
              "          const docLink = document.createElement('div');\n",
              "          docLink.innerHTML = docLinkHtml;\n",
              "          element.appendChild(docLink);\n",
              "        }\n",
              "      </script>\n",
              "    </div>\n",
              "  </div>\n",
              "  "
            ]
          },
          "metadata": {},
          "execution_count": 19
        }
      ]
    },
    {
      "cell_type": "code",
      "source": [
        "dataframe1 = dataframe.active"
      ],
      "metadata": {
        "id": "oUXAX5LSyCcU"
      },
      "execution_count": 25,
      "outputs": []
    },
    {
      "cell_type": "code",
      "source": [
        "from nltk.corpus import wordnet\n",
        "\n",
        "def get_wordnet_pos(pos_tag):\n",
        "    if pos_tag.startswith('ADJ'):\n",
        "        return wordnet.ADJ\n",
        "    elif pos_tag.startswith('VERB'):\n",
        "        return wordnet.VERB\n",
        "    elif pos_tag.startswith('NOUN'):\n",
        "        return wordnet.NOUN\n",
        "    elif pos_tag.startswith('ADV'):\n",
        "        return wordnet.ADV\n",
        "    else:\n",
        "        return wordnet.NOUN"
      ],
      "metadata": {
        "id": "_rUjxOND38Ui"
      },
      "execution_count": 32,
      "outputs": []
    },
    {
      "cell_type": "code",
      "source": [
        "df.Comment=df.Comment.astype(str)"
      ],
      "metadata": {
        "id": "XqtH-J216Sn_"
      },
      "execution_count": 46,
      "outputs": []
    },
    {
      "cell_type": "code",
      "source": [
        "import string\n",
        "from nltk import pos_tag\n",
        "from nltk.corpus import stopwords\n",
        "from nltk.tokenize import WhitespaceTokenizer\n",
        "from nltk.stem import WordNetLemmatizer\n"
      ],
      "metadata": {
        "id": "BKv4WVf05831"
      },
      "execution_count": 47,
      "outputs": []
    },
    {
      "cell_type": "code",
      "source": [
        "def clean_data(text):\n",
        "    text = text.lower()\n",
        "    text = [word.strip(string.punctuation) for word in text.split(\" \")]\n",
        "    text = [word for word in text if not any(c.isdigit() for c in word)]\n",
        "    stop = stopwords.words('english')\n",
        "    text = [x for x in text if x not in stop]\n",
        "    text = [t for t in text if len(t) > 0]\n",
        "    pos_tags = pos_tag(text)\n",
        "    text = [WordNetLemmatizer().lemmatize(t[0], get_wordnet_pos(t[1])) for t in pos_tags]\n",
        "    text = [t for t in text if len(t) > 1]\n",
        "    text = \" \".join(text)\n",
        "    return(text)\n"
      ],
      "metadata": {
        "id": "lyLC7zWu3pWW"
      },
      "execution_count": 50,
      "outputs": []
    },
    {
      "cell_type": "code",
      "source": [
        "df[\"cleaned_data\"] = df[\"Comment\"].apply(lambda x: clean_data(x))\n",
        "df.head()"
      ],
      "metadata": {
        "colab": {
          "base_uri": "https://localhost:8080/",
          "height": 206
        },
        "id": "DMFrJh1Q6k_1",
        "outputId": "3e4cd63d-e1e3-4fec-c8a2-a1410ca82974"
      },
      "execution_count": 52,
      "outputs": [
        {
          "output_type": "execute_result",
          "data": {
            "text/plain": [
              "   comment_id                                            Comment  \\\n",
              "0           5                             djfjkdfjkjkffdk edited   \n",
              "1          41  Faith has exhibited enthusiasm in taking on th...   \n",
              "2          49  He now has now understood the structure of gra...   \n",
              "3          50  The Intern was oriented on ICT setup and Infra...   \n",
              "4          52  The student was oriented on the organization s...   \n",
              "\n",
              "                                        cleaned_data  \n",
              "0                             djfjkdfjkjkffdk edited  \n",
              "1  faith exhibited enthusiasm taking project hand...  \n",
              "2  understood structure grail different component...  \n",
              "3  intern oriented ict setup infrastructure sorot...  \n",
              "4  student oriented organization structure develo...  "
            ],
            "text/html": [
              "\n",
              "  <div id=\"df-257f943a-35fa-4d5b-a123-e21492ad4aad\">\n",
              "    <div class=\"colab-df-container\">\n",
              "      <div>\n",
              "<style scoped>\n",
              "    .dataframe tbody tr th:only-of-type {\n",
              "        vertical-align: middle;\n",
              "    }\n",
              "\n",
              "    .dataframe tbody tr th {\n",
              "        vertical-align: top;\n",
              "    }\n",
              "\n",
              "    .dataframe thead th {\n",
              "        text-align: right;\n",
              "    }\n",
              "</style>\n",
              "<table border=\"1\" class=\"dataframe\">\n",
              "  <thead>\n",
              "    <tr style=\"text-align: right;\">\n",
              "      <th></th>\n",
              "      <th>comment_id</th>\n",
              "      <th>Comment</th>\n",
              "      <th>cleaned_data</th>\n",
              "    </tr>\n",
              "  </thead>\n",
              "  <tbody>\n",
              "    <tr>\n",
              "      <th>0</th>\n",
              "      <td>5</td>\n",
              "      <td>djfjkdfjkjkffdk edited</td>\n",
              "      <td>djfjkdfjkjkffdk edited</td>\n",
              "    </tr>\n",
              "    <tr>\n",
              "      <th>1</th>\n",
              "      <td>41</td>\n",
              "      <td>Faith has exhibited enthusiasm in taking on th...</td>\n",
              "      <td>faith exhibited enthusiasm taking project hand...</td>\n",
              "    </tr>\n",
              "    <tr>\n",
              "      <th>2</th>\n",
              "      <td>49</td>\n",
              "      <td>He now has now understood the structure of gra...</td>\n",
              "      <td>understood structure grail different component...</td>\n",
              "    </tr>\n",
              "    <tr>\n",
              "      <th>3</th>\n",
              "      <td>50</td>\n",
              "      <td>The Intern was oriented on ICT setup and Infra...</td>\n",
              "      <td>intern oriented ict setup infrastructure sorot...</td>\n",
              "    </tr>\n",
              "    <tr>\n",
              "      <th>4</th>\n",
              "      <td>52</td>\n",
              "      <td>The student was oriented on the organization s...</td>\n",
              "      <td>student oriented organization structure develo...</td>\n",
              "    </tr>\n",
              "  </tbody>\n",
              "</table>\n",
              "</div>\n",
              "      <button class=\"colab-df-convert\" onclick=\"convertToInteractive('df-257f943a-35fa-4d5b-a123-e21492ad4aad')\"\n",
              "              title=\"Convert this dataframe to an interactive table.\"\n",
              "              style=\"display:none;\">\n",
              "        \n",
              "  <svg xmlns=\"http://www.w3.org/2000/svg\" height=\"24px\"viewBox=\"0 0 24 24\"\n",
              "       width=\"24px\">\n",
              "    <path d=\"M0 0h24v24H0V0z\" fill=\"none\"/>\n",
              "    <path d=\"M18.56 5.44l.94 2.06.94-2.06 2.06-.94-2.06-.94-.94-2.06-.94 2.06-2.06.94zm-11 1L8.5 8.5l.94-2.06 2.06-.94-2.06-.94L8.5 2.5l-.94 2.06-2.06.94zm10 10l.94 2.06.94-2.06 2.06-.94-2.06-.94-.94-2.06-.94 2.06-2.06.94z\"/><path d=\"M17.41 7.96l-1.37-1.37c-.4-.4-.92-.59-1.43-.59-.52 0-1.04.2-1.43.59L10.3 9.45l-7.72 7.72c-.78.78-.78 2.05 0 2.83L4 21.41c.39.39.9.59 1.41.59.51 0 1.02-.2 1.41-.59l7.78-7.78 2.81-2.81c.8-.78.8-2.07 0-2.86zM5.41 20L4 18.59l7.72-7.72 1.47 1.35L5.41 20z\"/>\n",
              "  </svg>\n",
              "      </button>\n",
              "      \n",
              "  <style>\n",
              "    .colab-df-container {\n",
              "      display:flex;\n",
              "      flex-wrap:wrap;\n",
              "      gap: 12px;\n",
              "    }\n",
              "\n",
              "    .colab-df-convert {\n",
              "      background-color: #E8F0FE;\n",
              "      border: none;\n",
              "      border-radius: 50%;\n",
              "      cursor: pointer;\n",
              "      display: none;\n",
              "      fill: #1967D2;\n",
              "      height: 32px;\n",
              "      padding: 0 0 0 0;\n",
              "      width: 32px;\n",
              "    }\n",
              "\n",
              "    .colab-df-convert:hover {\n",
              "      background-color: #E2EBFA;\n",
              "      box-shadow: 0px 1px 2px rgba(60, 64, 67, 0.3), 0px 1px 3px 1px rgba(60, 64, 67, 0.15);\n",
              "      fill: #174EA6;\n",
              "    }\n",
              "\n",
              "    [theme=dark] .colab-df-convert {\n",
              "      background-color: #3B4455;\n",
              "      fill: #D2E3FC;\n",
              "    }\n",
              "\n",
              "    [theme=dark] .colab-df-convert:hover {\n",
              "      background-color: #434B5C;\n",
              "      box-shadow: 0px 1px 3px 1px rgba(0, 0, 0, 0.15);\n",
              "      filter: drop-shadow(0px 1px 2px rgba(0, 0, 0, 0.3));\n",
              "      fill: #FFFFFF;\n",
              "    }\n",
              "  </style>\n",
              "\n",
              "      <script>\n",
              "        const buttonEl =\n",
              "          document.querySelector('#df-257f943a-35fa-4d5b-a123-e21492ad4aad button.colab-df-convert');\n",
              "        buttonEl.style.display =\n",
              "          google.colab.kernel.accessAllowed ? 'block' : 'none';\n",
              "\n",
              "        async function convertToInteractive(key) {\n",
              "          const element = document.querySelector('#df-257f943a-35fa-4d5b-a123-e21492ad4aad');\n",
              "          const dataTable =\n",
              "            await google.colab.kernel.invokeFunction('convertToInteractive',\n",
              "                                                     [key], {});\n",
              "          if (!dataTable) return;\n",
              "\n",
              "          const docLinkHtml = 'Like what you see? Visit the ' +\n",
              "            '<a target=\"_blank\" href=https://colab.research.google.com/notebooks/data_table.ipynb>data table notebook</a>'\n",
              "            + ' to learn more about interactive tables.';\n",
              "          element.innerHTML = '';\n",
              "          dataTable['output_type'] = 'display_data';\n",
              "          await google.colab.output.renderOutput(dataTable, element);\n",
              "          const docLink = document.createElement('div');\n",
              "          docLink.innerHTML = docLinkHtml;\n",
              "          element.appendChild(docLink);\n",
              "        }\n",
              "      </script>\n",
              "    </div>\n",
              "  </div>\n",
              "  "
            ]
          },
          "metadata": {},
          "execution_count": 52
        }
      ]
    },
    {
      "cell_type": "code",
      "source": [
        "vectorizer = TfidfVectorizer(stop_words='english')\n"
      ],
      "metadata": {
        "colab": {
          "base_uri": "https://localhost:8080/"
        },
        "id": "fz9jF_Pd3PhO",
        "outputId": "84a6835d-73e5-486e-a0c7-467b59a27bf5"
      },
      "execution_count": 31,
      "outputs": [
        {
          "output_type": "execute_result",
          "data": {
            "text/plain": [
              "TfidfVectorizer(stop_words='english')"
            ]
          },
          "metadata": {},
          "execution_count": 31
        }
      ]
    },
    {
      "cell_type": "code",
      "source": [
        "corpus_1 = []\n",
        "corpus_2 = []\n",
        "\n",
        "for row in range(1, dataframe1.max_row):\n",
        "    for col in dataframe1.iter_cols(2, dataframe1.max_column):\n",
        "        blob = TextBlob(col[row].value)\n",
        "        sentiment = blob.sentiment.polarity\n",
        "        # corpus_1.append(comments(sentiment))\n",
        "\n",
        "        score = ''\n",
        "        if sentiment >= 0.55 and sentiment <= 1:\n",
        "            score = \"Excellent\"\n",
        "        if sentiment > 0 and sentiment < 0.55:\n",
        "            score = \"Good\"\n",
        "        if sentiment == 0:\n",
        "            score = \"Neutral\"\n",
        "        if sentiment < 0 and sentiment >= -0.55:\n",
        "            score = \"Poor\"\n",
        "        if sentiment < -0.55 and sentiment >= -1:\n",
        "            score = \"Very_Poor\"\n",
        "\n",
        "        corpus_1.append(score)\n",
        "        corpus_2.append(col[row].value)\n",
        "\n",
        "vectorizer = TfidfVectorizer(stop_words='english')\n",
        "corpus_vector = vectorizer.fit_transform(corpus_1)\n",
        "cluster_number = 5\n",
        "\n",
        "vectorizer = TfidfVectorizer(analyzer='word')\n",
        "X = vectorizer.fit_transform(corpus_1)\n",
        "\n",
        "source = corpus_1\n",
        "target = []\n",
        "weight = []\n",
        "cls = ['Excellent', 'Good', 'Neutral', 'Poor', 'Very Poor']\n",
        "df2 = pd.DataFrame(X.toarray(),columns=['excellent', 'good', 'neutral', 'poor', 'very_poor'])\n",
        "\n",
        "cls = MiniBatchKMeans(n_clusters=5, random_state=0)\n",
        "cls.fit(X)\n",
        "print(X)\n",
        "\n"
      ],
      "metadata": {
        "colab": {
          "base_uri": "https://localhost:8080/"
        },
        "id": "Z2aUsIsTxJS2",
        "outputId": "61a64b5d-9325-4c69-e487-f40e22d9c03f"
      },
      "execution_count": 57,
      "outputs": [
        {
          "output_type": "stream",
          "name": "stdout",
          "text": [
            "  (0, 2)\t1.0\n",
            "  (1, 1)\t1.0\n",
            "  (2, 2)\t1.0\n",
            "  (3, 3)\t1.0\n",
            "  (4, 1)\t1.0\n",
            "  (5, 2)\t1.0\n",
            "  (6, 2)\t1.0\n",
            "  (7, 0)\t1.0\n",
            "  (8, 2)\t1.0\n",
            "  (9, 0)\t1.0\n",
            "  (10, 1)\t1.0\n",
            "  (11, 3)\t1.0\n",
            "  (12, 1)\t1.0\n",
            "  (13, 1)\t1.0\n",
            "  (14, 2)\t1.0\n",
            "  (15, 2)\t1.0\n",
            "  (16, 1)\t1.0\n",
            "  (17, 1)\t1.0\n",
            "  (18, 2)\t1.0\n",
            "  (19, 2)\t1.0\n",
            "  (20, 1)\t1.0\n",
            "  (21, 1)\t1.0\n",
            "  (22, 0)\t1.0\n",
            "  (23, 2)\t1.0\n",
            "  (24, 2)\t1.0\n",
            "  :\t:\n",
            "  (4922, 1)\t1.0\n",
            "  (4923, 1)\t1.0\n",
            "  (4924, 1)\t1.0\n",
            "  (4925, 2)\t1.0\n",
            "  (4926, 0)\t1.0\n",
            "  (4927, 2)\t1.0\n",
            "  (4928, 1)\t1.0\n",
            "  (4929, 1)\t1.0\n",
            "  (4930, 0)\t1.0\n",
            "  (4931, 1)\t1.0\n",
            "  (4932, 2)\t1.0\n",
            "  (4933, 1)\t1.0\n",
            "  (4934, 1)\t1.0\n",
            "  (4935, 1)\t1.0\n",
            "  (4936, 3)\t1.0\n",
            "  (4937, 1)\t1.0\n",
            "  (4938, 2)\t1.0\n",
            "  (4939, 1)\t1.0\n",
            "  (4940, 1)\t1.0\n",
            "  (4941, 1)\t1.0\n",
            "  (4942, 2)\t1.0\n",
            "  (4943, 1)\t1.0\n",
            "  (4944, 2)\t1.0\n",
            "  (4945, 2)\t1.0\n",
            "  (4946, 2)\t1.0\n"
          ]
        }
      ]
    }
  ],
  "metadata": {
    "colab": {
      "collapsed_sections": [],
      "provenance": []
    },
    "kernelspec": {
      "display_name": "Python 3",
      "name": "python3"
    },
    "language_info": {
      "name": "python"
    }
  },
  "nbformat": 4,
  "nbformat_minor": 0
}